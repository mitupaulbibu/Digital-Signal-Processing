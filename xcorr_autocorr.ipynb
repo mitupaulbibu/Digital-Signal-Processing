{
  "nbformat": 4,
  "nbformat_minor": 0,
  "metadata": {
    "colab": {
      "provenance": []
    },
    "kernelspec": {
      "name": "python3",
      "display_name": "Python 3"
    },
    "language_info": {
      "name": "python"
    }
  },
  "cells": [
    {
      "cell_type": "code",
      "execution_count": 1,
      "metadata": {
        "id": "BuUZ61Tu1-_E"
      },
      "outputs": [],
      "source": [
        "import numpy as np\n",
        "import matplotlib.pyplot as plt"
      ]
    },
    {
      "cell_type": "code",
      "source": [
        "def conv(x,h):\n",
        "  lx = len(x)\n",
        "  lh = len(h)\n",
        "  y = np.zeros(lx+lh-1)\n",
        "\n",
        "  for m in range(lx):\n",
        "    for n in range(lh):\n",
        "      y[m+n] = y[m+n] + x[m]*h[n]\n",
        "  return y\n",
        "    \n",
        "x = [2,0,3,-4,1]\n",
        "h = [1,3,0,4,2]\n",
        "\n",
        "y = conv(x,np.flip(h))\n",
        "print(y)\n",
        "\n",
        "z = np.correlate(x,h,'full')\n",
        "print(z)\n"
      ],
      "metadata": {
        "colab": {
          "base_uri": "https://localhost:8080/"
        },
        "id": "QB_tRIXM2WCE",
        "outputId": "1a427452-bd67-4e4d-ee8f-671a43f794f0"
      },
      "execution_count": 9,
      "outputs": [
        {
          "output_type": "stream",
          "name": "stdout",
          "text": [
            "[  4.   8.   6.  10. -12.  13.  -9.  -1.   1.]\n",
            "[  4   8   6  10 -12  13  -9  -1   1]\n"
          ]
        }
      ]
    },
    {
      "cell_type": "code",
      "source": [
        "def crosscorr(x,h):\n",
        "  lx = len(x)\n",
        "  h = np.flip(h)\n",
        "  lh = len(h)\n",
        "  y = np.zeros(lx+lh-1)\n",
        "\n",
        "  for m in range(lx):\n",
        "    for n in range(lh):\n",
        "      y[m+n] = y[m+n] + x[m]*h[n]\n",
        "  return y\n",
        "\n",
        "x = [1,2,0,3,4]\n",
        "y = [3,1,2,0,-1]\n",
        "\n",
        "rxy = crosscorr(x,y)\n",
        "print(rxy)\n",
        "z = np.correlate(x,y,'full')\n",
        "print(z)\n"
      ],
      "metadata": {
        "colab": {
          "base_uri": "https://localhost:8080/"
        },
        "id": "_1pmpZZT5tgG",
        "outputId": "7ddab863-0cec-4647-bada-689498662057"
      },
      "execution_count": 11,
      "outputs": [
        {
          "output_type": "stream",
          "name": "stdout",
          "text": [
            "[-1. -2.  2.  2.  1. 12. 11. 13. 12.]\n",
            "[-1 -2  2  2  1 12 11 13 12]\n"
          ]
        }
      ]
    },
    {
      "cell_type": "code",
      "source": [
        "#auto-correlation\n",
        "y = crosscorr(x,x)\n",
        "print(y)\n",
        "\n",
        "z = np.correlate(x,x,'full')\n",
        "print(z)"
      ],
      "metadata": {
        "colab": {
          "base_uri": "https://localhost:8080/"
        },
        "id": "9xGvxtZw7Eux",
        "outputId": "5736ef60-3f1b-4ed7-a33a-93fef7cfd4bd"
      },
      "execution_count": 12,
      "outputs": [
        {
          "output_type": "stream",
          "name": "stdout",
          "text": [
            "[ 4. 11.  6. 14. 30. 14.  6. 11.  4.]\n",
            "[ 4 11  6 14 30 14  6 11  4]\n"
          ]
        }
      ]
    }
  ]
}